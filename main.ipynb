{
 "cells": [
  {
   "cell_type": "code",
   "execution_count": 1,
   "metadata": {},
   "outputs": [],
   "source": [
    "import numpy as np\n",
    "import pandas as pd\n",
    "import matplotlib.pyplot as plt\n",
    "from PIL import Image\n",
    "from tqdm.notebook import tqdm\n",
    "from colorist import Color\n",
    "import time\n",
    "import os\n",
    "\n",
    "import torch\n",
    "import torchvision.transforms as transforms\n",
    "from torchvision.datasets import ImageFolder\n",
    "from torch.utils.data import DataLoader\n",
    "from torchsummary import summary\n",
    "from torch.optim import Adam\n",
    "\n",
    "from models.pyramid_ViG import DeepGCN\n",
    "from timm.models import create_model\n",
    "from timm.scheduler import CosineLRScheduler\n",
    "from trainer import Trainer\n",
    "\n",
    "device = torch.device('cuda' if torch.cuda.is_available() else 'cpu')"
   ]
  },
  {
   "cell_type": "code",
   "execution_count": 2,
   "metadata": {},
   "outputs": [
    {
     "name": "stdout",
     "output_type": "stream",
     "text": [
      "<models.pyramid_ViG.PyramidVIG_Tiny_GELU.<locals>.OptInit object at 0x00000272BDD8E470>\n",
      "using relative_pos\n",
      "using relative_pos\n",
      "using relative_pos\n",
      "using relative_pos\n",
      "using relative_pos\n",
      "using relative_pos\n",
      "using relative_pos\n",
      "using relative_pos\n",
      "using relative_pos\n",
      "using relative_pos\n",
      "using relative_pos\n",
      "using relative_pos\n"
     ]
    }
   ],
   "source": [
    "model = create_model('PyramidVIG_Tiny_GELU')\n",
    "model = model.to(device)"
   ]
  },
  {
   "cell_type": "code",
   "execution_count": 3,
   "metadata": {},
   "outputs": [
    {
     "name": "stdout",
     "output_type": "stream",
     "text": [
      "torch.Size([4, 7])\n"
     ]
    }
   ],
   "source": [
    "rand_X = torch.randn(4, 3, 256, 256).to(device)\n",
    "sample_output = model(rand_X)\n",
    "print(sample_output.shape)"
   ]
  },
  {
   "cell_type": "code",
   "execution_count": 4,
   "metadata": {},
   "outputs": [
    {
     "name": "stdout",
     "output_type": "stream",
     "text": [
      "----------------------------------------------------------------\n",
      "        Layer (type)               Output Shape         Param #\n",
      "================================================================\n",
      "            Conv2d-1         [-1, 24, 128, 128]             672\n",
      "       BatchNorm2d-2         [-1, 24, 128, 128]              48\n",
      "              GELU-3         [-1, 24, 128, 128]               0\n",
      "            Conv2d-4           [-1, 48, 64, 64]          10,416\n",
      "       BatchNorm2d-5           [-1, 48, 64, 64]              96\n",
      "              GELU-6           [-1, 48, 64, 64]               0\n",
      "            Conv2d-7           [-1, 48, 64, 64]          20,784\n",
      "       BatchNorm2d-8           [-1, 48, 64, 64]              96\n",
      "              Stem-9           [-1, 48, 64, 64]               0\n",
      "           Conv2d-10           [-1, 48, 64, 64]           2,352\n",
      "      BatchNorm2d-11           [-1, 48, 64, 64]              96\n",
      "     DenseDilated-12           [-1, 2, 4096, 9]               0\n",
      "DenseDilatedKnnGraph-13           [-1, 2, 4096, 9]               0\n",
      "           Conv2d-14          [-1, 96, 4096, 1]           2,400\n",
      "      BatchNorm2d-15          [-1, 96, 4096, 1]             192\n",
      "             GELU-16          [-1, 96, 4096, 1]               0\n",
      "         MRConv2d-17          [-1, 96, 4096, 1]               0\n",
      "    DyGraphConv2d-18           [-1, 96, 64, 64]               0\n",
      "           Conv2d-19           [-1, 48, 64, 64]           4,656\n",
      "      BatchNorm2d-20           [-1, 48, 64, 64]              96\n",
      "         Identity-21           [-1, 48, 64, 64]               0\n",
      "          Grapher-22           [-1, 48, 64, 64]               0\n",
      "           Conv2d-23          [-1, 192, 64, 64]           9,408\n",
      "      BatchNorm2d-24          [-1, 192, 64, 64]             384\n",
      "             GELU-25          [-1, 192, 64, 64]               0\n",
      "           Conv2d-26           [-1, 48, 64, 64]           9,264\n",
      "      BatchNorm2d-27           [-1, 48, 64, 64]              96\n",
      "         Identity-28           [-1, 48, 64, 64]               0\n",
      "              FFN-29           [-1, 48, 64, 64]               0\n",
      "           Conv2d-30           [-1, 48, 64, 64]           2,352\n",
      "      BatchNorm2d-31           [-1, 48, 64, 64]              96\n",
      "     DenseDilated-32           [-1, 2, 4096, 9]               0\n",
      "DenseDilatedKnnGraph-33           [-1, 2, 4096, 9]               0\n",
      "           Conv2d-34          [-1, 96, 4096, 1]           2,400\n",
      "      BatchNorm2d-35          [-1, 96, 4096, 1]             192\n",
      "             GELU-36          [-1, 96, 4096, 1]               0\n",
      "         MRConv2d-37          [-1, 96, 4096, 1]               0\n",
      "    DyGraphConv2d-38           [-1, 96, 64, 64]               0\n",
      "           Conv2d-39           [-1, 48, 64, 64]           4,656\n",
      "      BatchNorm2d-40           [-1, 48, 64, 64]              96\n",
      "         Identity-41           [-1, 48, 64, 64]               0\n",
      "          Grapher-42           [-1, 48, 64, 64]               0\n",
      "           Conv2d-43          [-1, 192, 64, 64]           9,408\n",
      "      BatchNorm2d-44          [-1, 192, 64, 64]             384\n",
      "             GELU-45          [-1, 192, 64, 64]               0\n",
      "           Conv2d-46           [-1, 48, 64, 64]           9,264\n",
      "      BatchNorm2d-47           [-1, 48, 64, 64]              96\n",
      "         Identity-48           [-1, 48, 64, 64]               0\n",
      "              FFN-49           [-1, 48, 64, 64]               0\n",
      "           Conv2d-50           [-1, 96, 32, 32]          41,568\n",
      "      BatchNorm2d-51           [-1, 96, 32, 32]             192\n",
      "       Downsample-52           [-1, 96, 32, 32]               0\n",
      "           Conv2d-53           [-1, 96, 32, 32]           9,312\n",
      "      BatchNorm2d-54           [-1, 96, 32, 32]             192\n",
      "     DenseDilated-55           [-1, 2, 1024, 9]               0\n",
      "DenseDilatedKnnGraph-56           [-1, 2, 1024, 9]               0\n",
      "           Conv2d-57         [-1, 192, 1024, 1]           9,408\n",
      "      BatchNorm2d-58         [-1, 192, 1024, 1]             384\n",
      "             GELU-59         [-1, 192, 1024, 1]               0\n",
      "         MRConv2d-60         [-1, 192, 1024, 1]               0\n",
      "    DyGraphConv2d-61          [-1, 192, 32, 32]               0\n",
      "           Conv2d-62           [-1, 96, 32, 32]          18,528\n",
      "      BatchNorm2d-63           [-1, 96, 32, 32]             192\n",
      "         Identity-64           [-1, 96, 32, 32]               0\n",
      "          Grapher-65           [-1, 96, 32, 32]               0\n",
      "           Conv2d-66          [-1, 384, 32, 32]          37,248\n",
      "      BatchNorm2d-67          [-1, 384, 32, 32]             768\n",
      "             GELU-68          [-1, 384, 32, 32]               0\n",
      "           Conv2d-69           [-1, 96, 32, 32]          36,960\n",
      "      BatchNorm2d-70           [-1, 96, 32, 32]             192\n",
      "         Identity-71           [-1, 96, 32, 32]               0\n",
      "              FFN-72           [-1, 96, 32, 32]               0\n",
      "           Conv2d-73           [-1, 96, 32, 32]           9,312\n",
      "      BatchNorm2d-74           [-1, 96, 32, 32]             192\n",
      "     DenseDilated-75           [-1, 2, 1024, 9]               0\n",
      "DenseDilatedKnnGraph-76           [-1, 2, 1024, 9]               0\n",
      "           Conv2d-77         [-1, 192, 1024, 1]           9,408\n",
      "      BatchNorm2d-78         [-1, 192, 1024, 1]             384\n",
      "             GELU-79         [-1, 192, 1024, 1]               0\n",
      "         MRConv2d-80         [-1, 192, 1024, 1]               0\n",
      "    DyGraphConv2d-81          [-1, 192, 32, 32]               0\n",
      "           Conv2d-82           [-1, 96, 32, 32]          18,528\n",
      "      BatchNorm2d-83           [-1, 96, 32, 32]             192\n",
      "         Identity-84           [-1, 96, 32, 32]               0\n",
      "          Grapher-85           [-1, 96, 32, 32]               0\n",
      "           Conv2d-86          [-1, 384, 32, 32]          37,248\n",
      "      BatchNorm2d-87          [-1, 384, 32, 32]             768\n",
      "             GELU-88          [-1, 384, 32, 32]               0\n",
      "           Conv2d-89           [-1, 96, 32, 32]          36,960\n",
      "      BatchNorm2d-90           [-1, 96, 32, 32]             192\n",
      "         Identity-91           [-1, 96, 32, 32]               0\n",
      "              FFN-92           [-1, 96, 32, 32]               0\n",
      "           Conv2d-93          [-1, 240, 16, 16]         207,600\n",
      "      BatchNorm2d-94          [-1, 240, 16, 16]             480\n",
      "       Downsample-95          [-1, 240, 16, 16]               0\n",
      "           Conv2d-96          [-1, 240, 16, 16]          57,840\n",
      "      BatchNorm2d-97          [-1, 240, 16, 16]             480\n",
      "     DenseDilated-98            [-1, 2, 256, 9]               0\n",
      "DenseDilatedKnnGraph-99            [-1, 2, 256, 9]               0\n",
      "          Conv2d-100          [-1, 480, 256, 1]          58,080\n",
      "     BatchNorm2d-101          [-1, 480, 256, 1]             960\n",
      "            GELU-102          [-1, 480, 256, 1]               0\n",
      "        MRConv2d-103          [-1, 480, 256, 1]               0\n",
      "   DyGraphConv2d-104          [-1, 480, 16, 16]               0\n",
      "          Conv2d-105          [-1, 240, 16, 16]         115,440\n",
      "     BatchNorm2d-106          [-1, 240, 16, 16]             480\n",
      "        Identity-107          [-1, 240, 16, 16]               0\n",
      "         Grapher-108          [-1, 240, 16, 16]               0\n",
      "          Conv2d-109          [-1, 960, 16, 16]         231,360\n",
      "     BatchNorm2d-110          [-1, 960, 16, 16]           1,920\n",
      "            GELU-111          [-1, 960, 16, 16]               0\n",
      "          Conv2d-112          [-1, 240, 16, 16]         230,640\n",
      "     BatchNorm2d-113          [-1, 240, 16, 16]             480\n",
      "        Identity-114          [-1, 240, 16, 16]               0\n",
      "             FFN-115          [-1, 240, 16, 16]               0\n",
      "          Conv2d-116          [-1, 240, 16, 16]          57,840\n",
      "     BatchNorm2d-117          [-1, 240, 16, 16]             480\n",
      "    DenseDilated-118            [-1, 2, 256, 9]               0\n",
      "DenseDilatedKnnGraph-119            [-1, 2, 256, 9]               0\n",
      "          Conv2d-120          [-1, 480, 256, 1]          58,080\n",
      "     BatchNorm2d-121          [-1, 480, 256, 1]             960\n",
      "            GELU-122          [-1, 480, 256, 1]               0\n",
      "        MRConv2d-123          [-1, 480, 256, 1]               0\n",
      "   DyGraphConv2d-124          [-1, 480, 16, 16]               0\n",
      "          Conv2d-125          [-1, 240, 16, 16]         115,440\n",
      "     BatchNorm2d-126          [-1, 240, 16, 16]             480\n",
      "        Identity-127          [-1, 240, 16, 16]               0\n",
      "         Grapher-128          [-1, 240, 16, 16]               0\n",
      "          Conv2d-129          [-1, 960, 16, 16]         231,360\n",
      "     BatchNorm2d-130          [-1, 960, 16, 16]           1,920\n",
      "            GELU-131          [-1, 960, 16, 16]               0\n",
      "          Conv2d-132          [-1, 240, 16, 16]         230,640\n",
      "     BatchNorm2d-133          [-1, 240, 16, 16]             480\n",
      "        Identity-134          [-1, 240, 16, 16]               0\n",
      "             FFN-135          [-1, 240, 16, 16]               0\n",
      "          Conv2d-136          [-1, 240, 16, 16]          57,840\n",
      "     BatchNorm2d-137          [-1, 240, 16, 16]             480\n",
      "    DenseDilated-138            [-1, 2, 256, 9]               0\n",
      "DenseDilatedKnnGraph-139            [-1, 2, 256, 9]               0\n",
      "          Conv2d-140          [-1, 480, 256, 1]          58,080\n",
      "     BatchNorm2d-141          [-1, 480, 256, 1]             960\n",
      "            GELU-142          [-1, 480, 256, 1]               0\n",
      "        MRConv2d-143          [-1, 480, 256, 1]               0\n",
      "   DyGraphConv2d-144          [-1, 480, 16, 16]               0\n",
      "          Conv2d-145          [-1, 240, 16, 16]         115,440\n",
      "     BatchNorm2d-146          [-1, 240, 16, 16]             480\n",
      "        Identity-147          [-1, 240, 16, 16]               0\n",
      "         Grapher-148          [-1, 240, 16, 16]               0\n",
      "          Conv2d-149          [-1, 960, 16, 16]         231,360\n",
      "     BatchNorm2d-150          [-1, 960, 16, 16]           1,920\n",
      "            GELU-151          [-1, 960, 16, 16]               0\n",
      "          Conv2d-152          [-1, 240, 16, 16]         230,640\n",
      "     BatchNorm2d-153          [-1, 240, 16, 16]             480\n",
      "        Identity-154          [-1, 240, 16, 16]               0\n",
      "             FFN-155          [-1, 240, 16, 16]               0\n",
      "          Conv2d-156          [-1, 240, 16, 16]          57,840\n",
      "     BatchNorm2d-157          [-1, 240, 16, 16]             480\n",
      "    DenseDilated-158            [-1, 2, 256, 9]               0\n",
      "DenseDilatedKnnGraph-159            [-1, 2, 256, 9]               0\n",
      "          Conv2d-160          [-1, 480, 256, 1]          58,080\n",
      "     BatchNorm2d-161          [-1, 480, 256, 1]             960\n",
      "            GELU-162          [-1, 480, 256, 1]               0\n",
      "        MRConv2d-163          [-1, 480, 256, 1]               0\n",
      "   DyGraphConv2d-164          [-1, 480, 16, 16]               0\n",
      "          Conv2d-165          [-1, 240, 16, 16]         115,440\n",
      "     BatchNorm2d-166          [-1, 240, 16, 16]             480\n",
      "        Identity-167          [-1, 240, 16, 16]               0\n",
      "         Grapher-168          [-1, 240, 16, 16]               0\n",
      "          Conv2d-169          [-1, 960, 16, 16]         231,360\n",
      "     BatchNorm2d-170          [-1, 960, 16, 16]           1,920\n",
      "            GELU-171          [-1, 960, 16, 16]               0\n",
      "          Conv2d-172          [-1, 240, 16, 16]         230,640\n",
      "     BatchNorm2d-173          [-1, 240, 16, 16]             480\n",
      "        Identity-174          [-1, 240, 16, 16]               0\n",
      "             FFN-175          [-1, 240, 16, 16]               0\n",
      "          Conv2d-176          [-1, 240, 16, 16]          57,840\n",
      "     BatchNorm2d-177          [-1, 240, 16, 16]             480\n",
      "    DenseDilated-178            [-1, 2, 256, 9]               0\n",
      "DenseDilatedKnnGraph-179            [-1, 2, 256, 9]               0\n",
      "          Conv2d-180          [-1, 480, 256, 1]          58,080\n",
      "     BatchNorm2d-181          [-1, 480, 256, 1]             960\n",
      "            GELU-182          [-1, 480, 256, 1]               0\n",
      "        MRConv2d-183          [-1, 480, 256, 1]               0\n",
      "   DyGraphConv2d-184          [-1, 480, 16, 16]               0\n",
      "          Conv2d-185          [-1, 240, 16, 16]         115,440\n",
      "     BatchNorm2d-186          [-1, 240, 16, 16]             480\n",
      "        Identity-187          [-1, 240, 16, 16]               0\n",
      "         Grapher-188          [-1, 240, 16, 16]               0\n",
      "          Conv2d-189          [-1, 960, 16, 16]         231,360\n",
      "     BatchNorm2d-190          [-1, 960, 16, 16]           1,920\n",
      "            GELU-191          [-1, 960, 16, 16]               0\n",
      "          Conv2d-192          [-1, 240, 16, 16]         230,640\n",
      "     BatchNorm2d-193          [-1, 240, 16, 16]             480\n",
      "        Identity-194          [-1, 240, 16, 16]               0\n",
      "             FFN-195          [-1, 240, 16, 16]               0\n",
      "          Conv2d-196          [-1, 240, 16, 16]          57,840\n",
      "     BatchNorm2d-197          [-1, 240, 16, 16]             480\n",
      "    DenseDilated-198            [-1, 2, 256, 9]               0\n",
      "DenseDilatedKnnGraph-199            [-1, 2, 256, 9]               0\n",
      "          Conv2d-200          [-1, 480, 256, 1]          58,080\n",
      "     BatchNorm2d-201          [-1, 480, 256, 1]             960\n",
      "            GELU-202          [-1, 480, 256, 1]               0\n",
      "        MRConv2d-203          [-1, 480, 256, 1]               0\n",
      "   DyGraphConv2d-204          [-1, 480, 16, 16]               0\n",
      "          Conv2d-205          [-1, 240, 16, 16]         115,440\n",
      "     BatchNorm2d-206          [-1, 240, 16, 16]             480\n",
      "        Identity-207          [-1, 240, 16, 16]               0\n",
      "         Grapher-208          [-1, 240, 16, 16]               0\n",
      "          Conv2d-209          [-1, 960, 16, 16]         231,360\n",
      "     BatchNorm2d-210          [-1, 960, 16, 16]           1,920\n",
      "            GELU-211          [-1, 960, 16, 16]               0\n",
      "          Conv2d-212          [-1, 240, 16, 16]         230,640\n",
      "     BatchNorm2d-213          [-1, 240, 16, 16]             480\n",
      "        Identity-214          [-1, 240, 16, 16]               0\n",
      "             FFN-215          [-1, 240, 16, 16]               0\n",
      "          Conv2d-216            [-1, 384, 8, 8]         829,824\n",
      "     BatchNorm2d-217            [-1, 384, 8, 8]             768\n",
      "      Downsample-218            [-1, 384, 8, 8]               0\n",
      "          Conv2d-219            [-1, 384, 8, 8]         147,840\n",
      "     BatchNorm2d-220            [-1, 384, 8, 8]             768\n",
      "    DenseDilated-221             [-1, 2, 64, 9]               0\n",
      "DenseDilatedKnnGraph-222             [-1, 2, 64, 9]               0\n",
      "          Conv2d-223           [-1, 768, 64, 1]         148,224\n",
      "     BatchNorm2d-224           [-1, 768, 64, 1]           1,536\n",
      "            GELU-225           [-1, 768, 64, 1]               0\n",
      "        MRConv2d-226           [-1, 768, 64, 1]               0\n",
      "   DyGraphConv2d-227            [-1, 768, 8, 8]               0\n",
      "          Conv2d-228            [-1, 384, 8, 8]         295,296\n",
      "     BatchNorm2d-229            [-1, 384, 8, 8]             768\n",
      "        Identity-230            [-1, 384, 8, 8]               0\n",
      "         Grapher-231            [-1, 384, 8, 8]               0\n",
      "          Conv2d-232           [-1, 1536, 8, 8]         591,360\n",
      "     BatchNorm2d-233           [-1, 1536, 8, 8]           3,072\n",
      "            GELU-234           [-1, 1536, 8, 8]               0\n",
      "          Conv2d-235            [-1, 384, 8, 8]         590,208\n",
      "     BatchNorm2d-236            [-1, 384, 8, 8]             768\n",
      "        Identity-237            [-1, 384, 8, 8]               0\n",
      "             FFN-238            [-1, 384, 8, 8]               0\n",
      "          Conv2d-239            [-1, 384, 8, 8]         147,840\n",
      "     BatchNorm2d-240            [-1, 384, 8, 8]             768\n",
      "    DenseDilated-241             [-1, 2, 64, 9]               0\n",
      "DenseDilatedKnnGraph-242             [-1, 2, 64, 9]               0\n",
      "          Conv2d-243           [-1, 768, 64, 1]         148,224\n",
      "     BatchNorm2d-244           [-1, 768, 64, 1]           1,536\n",
      "            GELU-245           [-1, 768, 64, 1]               0\n",
      "        MRConv2d-246           [-1, 768, 64, 1]               0\n",
      "   DyGraphConv2d-247            [-1, 768, 8, 8]               0\n",
      "          Conv2d-248            [-1, 384, 8, 8]         295,296\n",
      "     BatchNorm2d-249            [-1, 384, 8, 8]             768\n",
      "        Identity-250            [-1, 384, 8, 8]               0\n",
      "         Grapher-251            [-1, 384, 8, 8]               0\n",
      "          Conv2d-252           [-1, 1536, 8, 8]         591,360\n",
      "     BatchNorm2d-253           [-1, 1536, 8, 8]           3,072\n",
      "            GELU-254           [-1, 1536, 8, 8]               0\n",
      "          Conv2d-255            [-1, 384, 8, 8]         590,208\n",
      "     BatchNorm2d-256            [-1, 384, 8, 8]             768\n",
      "        Identity-257            [-1, 384, 8, 8]               0\n",
      "             FFN-258            [-1, 384, 8, 8]               0\n",
      "          Conv2d-259           [-1, 1024, 1, 1]         394,240\n",
      "     BatchNorm2d-260           [-1, 1024, 1, 1]           2,048\n",
      "            GELU-261           [-1, 1024, 1, 1]               0\n",
      "         Dropout-262           [-1, 1024, 1, 1]               0\n",
      "          Conv2d-263              [-1, 7, 1, 1]           7,175\n",
      "================================================================\n",
      "Total params: 9,546,023\n",
      "Trainable params: 9,546,023\n",
      "Non-trainable params: 0\n",
      "----------------------------------------------------------------\n",
      "Input size (MB): 0.75\n",
      "Forward/backward pass size (MB): 271.52\n",
      "Params size (MB): 36.42\n",
      "Estimated Total Size (MB): 308.68\n",
      "----------------------------------------------------------------\n",
      "None\n"
     ]
    }
   ],
   "source": [
    "print(summary(model, (3, 256, 256)))"
   ]
  },
  {
   "cell_type": "code",
   "execution_count": 5,
   "metadata": {},
   "outputs": [
    {
     "data": {
      "text/html": [
       "<div>\n",
       "<style scoped>\n",
       "    .dataframe tbody tr th:only-of-type {\n",
       "        vertical-align: middle;\n",
       "    }\n",
       "\n",
       "    .dataframe tbody tr th {\n",
       "        vertical-align: top;\n",
       "    }\n",
       "\n",
       "    .dataframe thead th {\n",
       "        text-align: right;\n",
       "    }\n",
       "</style>\n",
       "<table border=\"1\" class=\"dataframe\">\n",
       "  <thead>\n",
       "    <tr style=\"text-align: right;\">\n",
       "      <th></th>\n",
       "      <th>Value</th>\n",
       "    </tr>\n",
       "  </thead>\n",
       "  <tbody>\n",
       "    <tr>\n",
       "      <th>data_directory</th>\n",
       "      <td>./data</td>\n",
       "    </tr>\n",
       "    <tr>\n",
       "      <th>train_count</th>\n",
       "      <td>38569</td>\n",
       "    </tr>\n",
       "    <tr>\n",
       "      <th>valid_count</th>\n",
       "      <td>938</td>\n",
       "    </tr>\n",
       "    <tr>\n",
       "      <th>learning_rate</th>\n",
       "      <td>0.002</td>\n",
       "    </tr>\n",
       "    <tr>\n",
       "      <th>class_names</th>\n",
       "      <td>[akiec, bcc, bkl, df, mel, nv, vasc]</td>\n",
       "    </tr>\n",
       "  </tbody>\n",
       "</table>\n",
       "</div>"
      ],
      "text/plain": [
       "                                               Value\n",
       "data_directory                                ./data\n",
       "train_count                                    38569\n",
       "valid_count                                      938\n",
       "learning_rate                                  0.002\n",
       "class_names     [akiec, bcc, bkl, df, mel, nv, vasc]"
      ]
     },
     "metadata": {},
     "output_type": "display_data"
    }
   ],
   "source": [
    "train_transform = transforms.Compose([\n",
    "    transforms.Resize((256, 256)),\n",
    "    transforms.RandomHorizontalFlip(),\n",
    "    transforms.RandomVerticalFlip(),\n",
    "    transforms.RandomRotation(20),\n",
    "    transforms.ToTensor(),\n",
    "    transforms.Normalize(mean=[0.485, 0.456, 0.406],\n",
    "                         std=[0.229, 0.224, 0.225])\n",
    "])\n",
    "\n",
    "valid_transform = transforms.Compose([\n",
    "    transforms.Resize((256, 256)),\n",
    "    transforms.ToTensor(),\n",
    "    transforms.Normalize(mean=[0.485, 0.456, 0.406],\n",
    "                         std=[0.229, 0.224, 0.225])\n",
    "])\n",
    "\n",
    "data_directory = './data'\n",
    "\n",
    "train_dataset = ImageFolder(data_directory + '/train', transform=train_transform)\n",
    "valid_dataset = ImageFolder(data_directory + '/valid', transform=valid_transform)\n",
    "\n",
    "train_loader = DataLoader(train_dataset, batch_size=32, shuffle=True, num_workers=4, pin_memory=True)\n",
    "valid_loader = DataLoader(valid_dataset, batch_size=32, num_workers=4, pin_memory=True)\n",
    "\n",
    "train_count = len(train_dataset)\n",
    "valid_count = len(valid_dataset)\n",
    "learning_rate = 2e-3\n",
    "optimizer = Adam(model.parameters(), lr=learning_rate)\n",
    "scheduler = CosineLRScheduler(optimizer, t_initial=20, warmup_lr_init=1e-6)\n",
    "\n",
    "preparation_summary = {\n",
    "    'data_directory': data_directory,\n",
    "    'train_count': train_count,\n",
    "    'valid_count': valid_count,\n",
    "    'learning_rate': learning_rate,\n",
    "    'class_names': [i for i in train_dataset.classes]\n",
    "}\n",
    "\n",
    "summary_df = pd.DataFrame(list(preparation_summary.values()),\n",
    "                          index=preparation_summary.keys(),\n",
    "                          columns=['Value'])\n",
    "display(summary_df)"
   ]
  },
  {
   "cell_type": "code",
   "execution_count": 6,
   "metadata": {},
   "outputs": [
    {
     "name": "stdout",
     "output_type": "stream",
     "text": [
      "Created new directory for model checkpoints at ./model_checkpoints/2024-03-11_04.37.57\n"
     ]
    }
   ],
   "source": [
    "trainer = Trainer(model, train_loader, valid_loader, optimizer, scheduler, device)"
   ]
  },
  {
   "cell_type": "code",
   "execution_count": 7,
   "metadata": {},
   "outputs": [
    {
     "name": "stderr",
     "output_type": "stream",
     "text": [
      "\u001b[35mEpoch 1\u001b[0m:   0%|          | 0/1206 [00:00<?, ?it/s]"
     ]
    },
    {
     "name": "stderr",
     "output_type": "stream",
     "text": [
      "\u001b[35mEpoch 1\u001b[0m: 100%|██████████| 1206/1206 [07:21<00:00,  2.73it/s]\n"
     ]
    },
    {
     "name": "stdout",
     "output_type": "stream",
     "text": [
      "Train set ===> Average Loss: \u001b[31m0.0395\u001b[0m | Accuracy: 19889/38569 (\u001b[36m51.57%\u001b[0m)\n",
      "Test set  ===> Average Loss: \u001b[31m0.0175\u001b[0m | Accuracy: 748/938 (\u001b[32m79.74%\u001b[0m)\n",
      "Model saved at ./model_checkpoints/2024-03-11_04.37.57/best_model.pth\n",
      "Best Accuracy: [\u001b[1;32m79.744%\u001b[0m]\n"
     ]
    },
    {
     "name": "stderr",
     "output_type": "stream",
     "text": [
      "\u001b[35mEpoch 2\u001b[0m: 100%|██████████| 1206/1206 [07:23<00:00,  2.72it/s]\n"
     ]
    },
    {
     "name": "stdout",
     "output_type": "stream",
     "text": [
      "Train set ===> Average Loss: \u001b[31m0.0320\u001b[0m | Accuracy: 23295/38569 (\u001b[36m60.40%\u001b[0m)\n",
      "Test set  ===> Average Loss: \u001b[31m0.0144\u001b[0m | Accuracy: 786/938 (\u001b[32m83.80%\u001b[0m)\n",
      "Model saved at ./model_checkpoints/2024-03-11_04.37.57/best_model.pth\n",
      "Best Accuracy: [\u001b[1;32m83.795%\u001b[0m]\n"
     ]
    },
    {
     "name": "stderr",
     "output_type": "stream",
     "text": [
      "\u001b[35mEpoch 3\u001b[0m: 100%|██████████| 1206/1206 [07:44<00:00,  2.60it/s]\n"
     ]
    },
    {
     "name": "stdout",
     "output_type": "stream",
     "text": [
      "Train set ===> Average Loss: \u001b[31m0.0280\u001b[0m | Accuracy: 25249/38569 (\u001b[36m65.46%\u001b[0m)\n",
      "Test set  ===> Average Loss: \u001b[31m0.0125\u001b[0m | Accuracy: 814/938 (\u001b[32m86.78%\u001b[0m)\n",
      "Model saved at ./model_checkpoints/2024-03-11_04.37.57/best_model.pth\n",
      "Best Accuracy: [\u001b[1;32m86.78%\u001b[0m]\n"
     ]
    },
    {
     "name": "stderr",
     "output_type": "stream",
     "text": [
      "\u001b[35mEpoch 4\u001b[0m: 100%|██████████| 1206/1206 [08:13<00:00,  2.45it/s]\n"
     ]
    },
    {
     "name": "stdout",
     "output_type": "stream",
     "text": [
      "Train set ===> Average Loss: \u001b[31m0.0254\u001b[0m | Accuracy: 26516/38569 (\u001b[36m68.75%\u001b[0m)\n",
      "Test set  ===> Average Loss: \u001b[31m0.0159\u001b[0m | Accuracy: 770/938 (\u001b[32m82.09%\u001b[0m)\n",
      "Best Accuracy: [\u001b[1;32m86.78%\u001b[0m]\n"
     ]
    },
    {
     "name": "stderr",
     "output_type": "stream",
     "text": [
      "\u001b[35mEpoch 5\u001b[0m: 100%|██████████| 1206/1206 [08:19<00:00,  2.41it/s]\n"
     ]
    },
    {
     "name": "stdout",
     "output_type": "stream",
     "text": [
      "Train set ===> Average Loss: \u001b[31m0.0230\u001b[0m | Accuracy: 27635/38569 (\u001b[36m71.65%\u001b[0m)\n",
      "Test set  ===> Average Loss: \u001b[31m0.0141\u001b[0m | Accuracy: 784/938 (\u001b[32m83.58%\u001b[0m)\n",
      "Best Accuracy: [\u001b[1;32m86.78%\u001b[0m]\n"
     ]
    },
    {
     "name": "stderr",
     "output_type": "stream",
     "text": [
      "\u001b[35mEpoch 6\u001b[0m: 100%|██████████| 1206/1206 [08:16<00:00,  2.43it/s]\n"
     ]
    },
    {
     "name": "stdout",
     "output_type": "stream",
     "text": [
      "Train set ===> Average Loss: \u001b[31m0.0210\u001b[0m | Accuracy: 28682/38569 (\u001b[36m74.37%\u001b[0m)\n",
      "Test set  ===> Average Loss: \u001b[31m0.0138\u001b[0m | Accuracy: 777/938 (\u001b[32m82.84%\u001b[0m)\n",
      "Best Accuracy: [\u001b[1;32m86.78%\u001b[0m]\n"
     ]
    },
    {
     "name": "stderr",
     "output_type": "stream",
     "text": [
      "\u001b[35mEpoch 7\u001b[0m: 100%|██████████| 1206/1206 [08:05<00:00,  2.48it/s]\n"
     ]
    },
    {
     "name": "stdout",
     "output_type": "stream",
     "text": [
      "Train set ===> Average Loss: \u001b[31m0.0192\u001b[0m | Accuracy: 29543/38569 (\u001b[36m76.60%\u001b[0m)\n",
      "Test set  ===> Average Loss: \u001b[31m0.0130\u001b[0m | Accuracy: 805/938 (\u001b[32m85.82%\u001b[0m)\n",
      "Best Accuracy: [\u001b[1;32m86.78%\u001b[0m]\n"
     ]
    },
    {
     "name": "stderr",
     "output_type": "stream",
     "text": [
      "\u001b[35mEpoch 8\u001b[0m: 100%|██████████| 1206/1206 [07:50<00:00,  2.57it/s]\n"
     ]
    },
    {
     "name": "stdout",
     "output_type": "stream",
     "text": [
      "Train set ===> Average Loss: \u001b[31m0.0179\u001b[0m | Accuracy: 30076/38569 (\u001b[36m77.98%\u001b[0m)\n",
      "Test set  ===> Average Loss: \u001b[31m0.0111\u001b[0m | Accuracy: 823/938 (\u001b[32m87.74%\u001b[0m)\n",
      "Model saved at ./model_checkpoints/2024-03-11_04.37.57/best_model.pth\n",
      "Best Accuracy: [\u001b[1;32m87.74%\u001b[0m]\n"
     ]
    },
    {
     "name": "stderr",
     "output_type": "stream",
     "text": [
      "\u001b[35mEpoch 9\u001b[0m: 100%|██████████| 1206/1206 [07:28<00:00,  2.69it/s]\n"
     ]
    },
    {
     "name": "stdout",
     "output_type": "stream",
     "text": [
      "Train set ===> Average Loss: \u001b[31m0.0165\u001b[0m | Accuracy: 30772/38569 (\u001b[36m79.78%\u001b[0m)\n",
      "Test set  ===> Average Loss: \u001b[31m0.0117\u001b[0m | Accuracy: 816/938 (\u001b[32m86.99%\u001b[0m)\n",
      "Best Accuracy: [\u001b[1;32m87.74%\u001b[0m]\n"
     ]
    },
    {
     "name": "stderr",
     "output_type": "stream",
     "text": [
      "\u001b[35mEpoch 10\u001b[0m: 100%|██████████| 1206/1206 [07:36<00:00,  2.64it/s]\n"
     ]
    },
    {
     "name": "stdout",
     "output_type": "stream",
     "text": [
      "Train set ===> Average Loss: \u001b[31m0.0153\u001b[0m | Accuracy: 31339/38569 (\u001b[36m81.25%\u001b[0m)\n",
      "Test set  ===> Average Loss: \u001b[31m0.0124\u001b[0m | Accuracy: 808/938 (\u001b[32m86.14%\u001b[0m)\n",
      "Best Accuracy: [\u001b[1;32m87.74%\u001b[0m]\n"
     ]
    },
    {
     "name": "stderr",
     "output_type": "stream",
     "text": [
      "\u001b[35mEpoch 11\u001b[0m: 100%|██████████| 1206/1206 [07:41<00:00,  2.61it/s]\n"
     ]
    },
    {
     "name": "stdout",
     "output_type": "stream",
     "text": [
      "Train set ===> Average Loss: \u001b[31m0.0143\u001b[0m | Accuracy: 31910/38569 (\u001b[36m82.73%\u001b[0m)\n",
      "Test set  ===> Average Loss: \u001b[31m0.0135\u001b[0m | Accuracy: 794/938 (\u001b[32m84.65%\u001b[0m)\n",
      "Best Accuracy: [\u001b[1;32m87.74%\u001b[0m]\n"
     ]
    },
    {
     "name": "stderr",
     "output_type": "stream",
     "text": [
      "\u001b[35mEpoch 12\u001b[0m: 100%|██████████| 1206/1206 [07:42<00:00,  2.61it/s]\n"
     ]
    },
    {
     "name": "stdout",
     "output_type": "stream",
     "text": [
      "Train set ===> Average Loss: \u001b[31m0.0131\u001b[0m | Accuracy: 32341/38569 (\u001b[36m83.85%\u001b[0m)\n",
      "Test set  ===> Average Loss: \u001b[31m0.0136\u001b[0m | Accuracy: 802/938 (\u001b[32m85.50%\u001b[0m)\n",
      "Best Accuracy: [\u001b[1;32m87.74%\u001b[0m]\n"
     ]
    },
    {
     "name": "stderr",
     "output_type": "stream",
     "text": [
      "\u001b[35mEpoch 13\u001b[0m: 100%|██████████| 1206/1206 [07:36<00:00,  2.64it/s]\n"
     ]
    },
    {
     "name": "stdout",
     "output_type": "stream",
     "text": [
      "Train set ===> Average Loss: \u001b[31m0.0121\u001b[0m | Accuracy: 32817/38569 (\u001b[36m85.09%\u001b[0m)\n",
      "Test set  ===> Average Loss: \u001b[31m0.0112\u001b[0m | Accuracy: 826/938 (\u001b[32m88.06%\u001b[0m)\n",
      "Model saved at ./model_checkpoints/2024-03-11_04.37.57/best_model.pth\n",
      "Best Accuracy: [\u001b[1;32m88.06%\u001b[0m]\n"
     ]
    },
    {
     "name": "stderr",
     "output_type": "stream",
     "text": [
      "\u001b[35mEpoch 14\u001b[0m: 100%|██████████| 1206/1206 [07:21<00:00,  2.73it/s]\n"
     ]
    },
    {
     "name": "stdout",
     "output_type": "stream",
     "text": [
      "Train set ===> Average Loss: \u001b[31m0.0112\u001b[0m | Accuracy: 33378/38569 (\u001b[36m86.54%\u001b[0m)\n",
      "Test set  ===> Average Loss: \u001b[31m0.0103\u001b[0m | Accuracy: 829/938 (\u001b[32m88.38%\u001b[0m)\n",
      "Model saved at ./model_checkpoints/2024-03-11_04.37.57/best_model.pth\n",
      "Best Accuracy: [\u001b[1;32m88.38%\u001b[0m]\n"
     ]
    },
    {
     "name": "stderr",
     "output_type": "stream",
     "text": [
      "\u001b[35mEpoch 15\u001b[0m: 100%|██████████| 1206/1206 [07:21<00:00,  2.73it/s]\n"
     ]
    },
    {
     "name": "stdout",
     "output_type": "stream",
     "text": [
      "Train set ===> Average Loss: \u001b[31m0.0102\u001b[0m | Accuracy: 33800/38569 (\u001b[36m87.64%\u001b[0m)\n",
      "Test set  ===> Average Loss: \u001b[31m0.0113\u001b[0m | Accuracy: 830/938 (\u001b[32m88.49%\u001b[0m)\n",
      "Model saved at ./model_checkpoints/2024-03-11_04.37.57/best_model.pth\n",
      "Best Accuracy: [\u001b[1;32m88.486%\u001b[0m]\n"
     ]
    },
    {
     "name": "stderr",
     "output_type": "stream",
     "text": [
      "\u001b[35mEpoch 16\u001b[0m:  77%|███████▋  | 932/1206 [05:49<01:39,  2.75it/s]"
     ]
    }
   ],
   "source": [
    "trainer(epochs = 200)"
   ]
  }
 ],
 "metadata": {
  "kernelspec": {
   "display_name": "MyTorch",
   "language": "python",
   "name": "python3"
  },
  "language_info": {
   "codemirror_mode": {
    "name": "ipython",
    "version": 3
   },
   "file_extension": ".py",
   "mimetype": "text/x-python",
   "name": "python",
   "nbconvert_exporter": "python",
   "pygments_lexer": "ipython3",
   "version": "3.10.13"
  }
 },
 "nbformat": 4,
 "nbformat_minor": 2
}
